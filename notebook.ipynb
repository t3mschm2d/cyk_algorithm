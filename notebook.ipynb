{
 "cells": [
  {
   "cell_type": "markdown",
   "metadata": {},
   "source": [
    "# CYK Algorithm \n",
    "\n",
    "This script is a discrete implementation of the CYK algorithm which allows the user to determine if a word is within a context-free language or not"
   ]
  },
  {
   "cell_type": "markdown",
   "metadata": {},
   "source": [
    "## Implementation with matrix-formatting"
   ]
  },
  {
   "cell_type": "code",
   "execution_count": 32,
   "metadata": {},
   "outputs": [],
   "source": [
    "import tabulate as tab\n",
    "\n",
    "def format_set_matrix(table, word):\n",
    "    formatted_table = []\n",
    "    for row in table:\n",
    "        formatted_row = []\n",
    "        for cell in row:\n",
    "            if cell:\n",
    "                formatted_row.append(cell)\n",
    "            else:\n",
    "                formatted_row.append(\"-\")\n",
    "        formatted_table.append(formatted_row)\n",
    "\n",
    "    print(tab.tabulate(formatted_table, headers=list(word), tablefmt=\"fancy_grid\"))\n",
    "\n",
    "\n",
    "def cyk_algorithm(grammar, word):\n",
    "    n = len(word)\n",
    "\n",
    "    # Initialize table a n by n matrix\n",
    "    table = [[set() for _ in range(n)] for _ in range(n)]\n",
    "\n",
    "    # Fill the first row of the table with Variables that produce the terminal of the word\n",
    "    for i in range(n):\n",
    "        for key, value in grammar.items():\n",
    "            if word[i] in value:\n",
    "                table[0][i].add(key)\n",
    "\n",
    "    index_list = dict()\n",
    "\n",
    "    for j in range(1, n):\n",
    "        k_list = list()\n",
    "        for k in range(n-j):\n",
    "            k_list.append(k)\n",
    "        index_list.update({j: k_list})\n",
    "\n",
    "    for j, k in index_list.items():\n",
    "        for k_itr in k:\n",
    "            for p in range(j):\n",
    "                for key, value in grammar.items():\n",
    "                    for t1 in table[p][k_itr]:\n",
    "                        for t2 in table[j-p-1][k_itr+p+1]:\n",
    "                            if t1+t2 in value:\n",
    "                                table[j][k_itr].add(key)\n",
    "    \n",
    "    format_set_matrix(table, word)\n"
   ]
  },
  {
   "cell_type": "markdown",
   "metadata": {},
   "source": [
    "## Example usage"
   ]
  },
  {
   "cell_type": "code",
   "execution_count": 42,
   "metadata": {},
   "outputs": [],
   "source": [
    "grammar = {\n",
    "    'S': {'RT', 'AV', 'SZ', 'ZA', 'b'},\n",
    "    'R': {'AZ', 'AV', 'VV', 'a'},\n",
    "    'T': {'BR', 'AZ', 'AW', 'BB'},\n",
    "    'Z': {'RR', 'CB', 'c'},\n",
    "    'A': {'a'},\n",
    "    'B': {'b'},\n",
    "    'C': {'c'},\n",
    "    'V': {'RT'},\n",
    "    'W': {'ZC'},\n",
    "}\n",
    "\n",
    "w1 = 'abaaabbc'\n",
    "w2 = 'acacc'"
   ]
  },
  {
   "cell_type": "markdown",
   "metadata": {},
   "source": [
    "### Result for W1"
   ]
  },
  {
   "cell_type": "code",
   "execution_count": 43,
   "metadata": {},
   "outputs": [
    {
     "name": "stdout",
     "output_type": "stream",
     "text": [
      "╒════════════╤════════════╤═════════════════╤════════════╤════════════╤════════════╤════════════╤════════════╕\n",
      "│ a          │ b          │ a               │ a          │ a          │ b          │ b          │ c          │\n",
      "╞════════════╪════════════╪═════════════════╪════════════╪════════════╪════════════╪════════════╪════════════╡\n",
      "│ {'A', 'R'} │ {'S', 'B'} │ {'A', 'R'}      │ {'A', 'R'} │ {'A', 'R'} │ {'S', 'B'} │ {'S', 'B'} │ {'Z', 'C'} │\n",
      "├────────────┼────────────┼─────────────────┼────────────┼────────────┼────────────┼────────────┼────────────┤\n",
      "│ -          │ {'T'}      │ {'Z'}           │ {'Z'}      │ -          │ {'T'}      │ {'S'}      │ -          │\n",
      "├────────────┼────────────┼─────────────────┼────────────┼────────────┼────────────┼────────────┼────────────┤\n",
      "│ {'S', 'V'} │ {'S'}      │ {'T', 'S', 'R'} │ -          │ {'S', 'V'} │ -          │ -          │ -          │\n",
      "├────────────┼────────────┼─────────────────┼────────────┼────────────┼────────────┼────────────┼────────────┤\n",
      "│ -          │ {'T'}      │ -               │ {'S', 'R'} │ {'S'}      │ -          │ -          │ -          │\n",
      "├────────────┼────────────┼─────────────────┼────────────┼────────────┼────────────┼────────────┼────────────┤\n",
      "│ {'S', 'V'} │ -          │ {'Z', 'S', 'V'} │ {'S'}      │ -          │ -          │ -          │ -          │\n",
      "├────────────┼────────────┼─────────────────┼────────────┼────────────┼────────────┼────────────┼────────────┤\n",
      "│ -          │ {'S'}      │ {'S', 'W'}      │ -          │ -          │ -          │ -          │ -          │\n",
      "├────────────┼────────────┼─────────────────┼────────────┼────────────┼────────────┼────────────┼────────────┤\n",
      "│ -          │ {'S'}      │ -               │ -          │ -          │ -          │ -          │ -          │\n",
      "├────────────┼────────────┼─────────────────┼────────────┼────────────┼────────────┼────────────┼────────────┤\n",
      "│ -          │ -          │ -               │ -          │ -          │ -          │ -          │ -          │\n",
      "╘════════════╧════════════╧═════════════════╧════════════╧════════════╧════════════╧════════════╧════════════╛\n"
     ]
    }
   ],
   "source": [
    "cyk_algorithm(grammar, w1)"
   ]
  },
  {
   "cell_type": "markdown",
   "metadata": {},
   "source": [
    "### Result for W2"
   ]
  },
  {
   "cell_type": "code",
   "execution_count": 44,
   "metadata": {},
   "outputs": [
    {
     "name": "stdout",
     "output_type": "stream",
     "text": [
      "╒══════════════════════╤════════════╤════════════╤════════════╤════════════╕\n",
      "│ a                    │ c          │ a          │ c          │ c          │\n",
      "╞══════════════════════╪════════════╪════════════╪════════════╪════════════╡\n",
      "│ {'A', 'R'}           │ {'Z', 'C'} │ {'A', 'R'} │ {'Z', 'C'} │ {'Z', 'C'} │\n",
      "├──────────────────────┼────────────┼────────────┼────────────┼────────────┤\n",
      "│ {'T', 'R'}           │ {'S'}      │ {'T', 'R'} │ {'W'}      │ -          │\n",
      "├──────────────────────┼────────────┼────────────┼────────────┼────────────┤\n",
      "│ {'Z'}                │ {'S'}      │ {'T'}      │ -          │ -          │\n",
      "├──────────────────────┼────────────┼────────────┼────────────┼────────────┤\n",
      "│ {'Z', 'W', 'S', 'V'} │ {'S'}      │ -          │ -          │ -          │\n",
      "├──────────────────────┼────────────┼────────────┼────────────┼────────────┤\n",
      "│ {'W', 'S', 'V'}      │ -          │ -          │ -          │ -          │\n",
      "╘══════════════════════╧════════════╧════════════╧════════════╧════════════╛\n"
     ]
    }
   ],
   "source": [
    "cyk_algorithm(grammar, w2)"
   ]
  }
 ],
 "metadata": {
  "kernelspec": {
   "display_name": "data",
   "language": "python",
   "name": "python3"
  },
  "language_info": {
   "codemirror_mode": {
    "name": "ipython",
    "version": 3
   },
   "file_extension": ".py",
   "mimetype": "text/x-python",
   "name": "python",
   "nbconvert_exporter": "python",
   "pygments_lexer": "ipython3",
   "version": "3.11.6"
  }
 },
 "nbformat": 4,
 "nbformat_minor": 2
}
